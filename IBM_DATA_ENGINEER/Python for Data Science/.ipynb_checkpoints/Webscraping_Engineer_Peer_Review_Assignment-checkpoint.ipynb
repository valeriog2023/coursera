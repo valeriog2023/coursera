{
 "cells": [
  {
   "cell_type": "markdown",
   "metadata": {},
   "source": [
    "<p style=\"text-align:center\">\n",
    "    <a href=\"https://skills.network/?utm_medium=Exinfluencer&utm_source=Exinfluencer&utm_content=000026UJ&utm_term=10006555&utm_id=NA-SkillsNetwork-Channel-SkillsNetworkCoursesIBMDeveloperSkillsNetworkPY0221ENSkillsNetwork899-2023-01-01\">\n",
    "    <img src=\"https://cf-courses-data.s3.us.cloud-object-storage.appdomain.cloud/assets/logos/SN_web_lightmode.png\" width=\"200\" alt=\"Skills Network Logo\"  />\n",
    "    </a>\n",
    "</p>\n"
   ]
  },
  {
   "cell_type": "markdown",
   "metadata": {},
   "source": [
    "# Peer Review Assignment - Data Engineer - Webscraping\n"
   ]
  },
  {
   "cell_type": "markdown",
   "metadata": {},
   "source": [
    "Estimated time needed: **20** minutes\n"
   ]
  },
  {
   "cell_type": "markdown",
   "metadata": {},
   "source": [
    "## Objectives\n",
    "\n",
    "In this part you will:\n",
    "\n",
    "- Use webscraping to get bank information\n"
   ]
  },
  {
   "cell_type": "markdown",
   "metadata": {},
   "source": [
    "For this lab, we are going to be using Python and several Python libraries. Some of these libraries might be installed in your lab environment or in SN Labs. Others may need to be installed by you. The cells below will install these libraries when executed.\n"
   ]
  },
  {
   "cell_type": "code",
   "execution_count": null,
   "metadata": {},
   "outputs": [
    {
     "name": "stdout",
     "output_type": "stream",
     "text": [
      "Collecting package metadata (current_repodata.json): done\n",
      "Solving environment: failed with initial frozen solve. Retrying with flexible solve.\n",
      "Collecting package metadata (repodata.json): done\n",
      "Solving environment: failed with initial frozen solve. Retrying with flexible solve.\n",
      "Solving environment: / ^C\n",
      "failed\n",
      "\n",
      "CondaError: KeyboardInterrupt\n",
      "\n",
      "Collecting package metadata (current_repodata.json): done\n",
      "Solving environment: done\n"
     ]
    }
   ],
   "source": [
    "#!mamba install pandas==1.3.3 -y\n",
    "#!mamba install requests==2.26.0 -y\n",
    "!conda install bs4==4.10.0 -y\n",
    "!conda install html5lib==1.1 -y"
   ]
  },
  {
   "cell_type": "markdown",
   "metadata": {},
   "source": [
    "## Imports\n",
    "\n",
    "Import any additional libraries you may need here.\n"
   ]
  },
  {
   "cell_type": "code",
   "execution_count": 1,
   "metadata": {},
   "outputs": [],
   "source": [
    "from bs4 import BeautifulSoup\n",
    "import html5lib\n",
    "import requests\n",
    "import pandas as pd"
   ]
  },
  {
   "cell_type": "markdown",
   "metadata": {},
   "source": [
    "## Extract Data Using Web Scraping\n"
   ]
  },
  {
   "cell_type": "markdown",
   "metadata": {},
   "source": [
    "The wikipedia webpage https://web.archive.org/web/20200318083015/https://en.wikipedia.org/wiki/List_of_largest_banks provides information about largest banks in the world by various parameters. Scrape the data from the table 'By market capitalization' and store it in a JSON file.\n"
   ]
  },
  {
   "cell_type": "markdown",
   "metadata": {},
   "source": [
    "### Webpage Contents\n",
    "\n",
    "Gather the contents of the webpage in text format using the `requests` library and assign it to the variable <code>html_data</code>\n"
   ]
  },
  {
   "cell_type": "code",
   "execution_count": 8,
   "metadata": {},
   "outputs": [],
   "source": [
    "#Write your code here\n",
    "r = requests.get('https://web.archive.org/web/20200318083015/https://en.wikipedia.org/wiki/List_of_largest_banks')\n",
    "html_data = r.text\n"
   ]
  },
  {
   "cell_type": "markdown",
   "metadata": {},
   "source": [
    "<b>Question 1</b> Print out the output of the following line, and remember it as it will be a quiz question:\n"
   ]
  },
  {
   "cell_type": "code",
   "execution_count": 10,
   "metadata": {},
   "outputs": [
    {
     "data": {
      "text/plain": [
       "'List of largest banks -'"
      ]
     },
     "execution_count": 10,
     "metadata": {},
     "output_type": "execute_result"
    }
   ],
   "source": [
    "html_data[760:783]"
   ]
  },
  {
   "cell_type": "markdown",
   "metadata": {},
   "source": [
    "### Scraping the Data\n",
    "\n",
    "<b> Question 2</b> Using the contents and `beautiful soup` load the data from the `By market capitalization` table into a `pandas` dataframe. The dataframe should have the bank `Name` and `Market Cap (US$ Billion)` as column names.  Display the first five rows using head. \n"
   ]
  },
  {
   "cell_type": "markdown",
   "metadata": {},
   "source": [
    "Using BeautifulSoup parse the contents of the webpage.\n"
   ]
  },
  {
   "cell_type": "code",
   "execution_count": 35,
   "metadata": {},
   "outputs": [
    {
     "data": {
      "text/plain": [
       "['70', 'Bank Rakyat', '33.081']"
      ]
     },
     "execution_count": 35,
     "metadata": {},
     "output_type": "execute_result"
    }
   ],
   "source": [
    "#Replace the dots below\n",
    "soup = BeautifulSoup(html_data, \"html.parser\")\n",
    "for row in soup.find_all('tbody')[2].find_all('tr'):\n",
    "    col = row.find_all('td')\n",
    "    \n",
    "col = [ele.text.strip() for ele in col]\n",
    "col"
   ]
  },
  {
   "cell_type": "markdown",
   "metadata": {},
   "source": [
    "Load the data from the `By market capitalization` table into a pandas dataframe. The dataframe should have the bank `Name` and `Market Cap (US$ Billion)` as column names. Using the empty dataframe `data` and the given loop extract the necessary data from each row and append it to the empty dataframe.\n"
   ]
  },
  {
   "cell_type": "code",
   "execution_count": 50,
   "metadata": {},
   "outputs": [
    {
     "name": "stdout",
     "output_type": "stream",
     "text": [
      "<class 'pandas.core.frame.DataFrame'>\n",
      "RangeIndex: 70 entries, 0 to 69\n",
      "Data columns (total 2 columns):\n",
      " #   Column                    Non-Null Count  Dtype \n",
      "---  ------                    --------------  ----- \n",
      " 0   Name                      70 non-null     object\n",
      " 1   Market Cap (US$ Billion)  70 non-null     object\n",
      "dtypes: object(2)\n",
      "memory usage: 1.2+ KB\n"
     ]
    }
   ],
   "source": [
    "data = pd.DataFrame(columns=[\"Name\", \"Market Cap (US$ Billion)\"])\n",
    "\n",
    "for row in soup.find_all('tbody')[2].find_all('tr'):\n",
    "    col = row.find_all('td')\n",
    "    elements = [ ele.text.strip() for ele in col]\n",
    "    if len(elements)==3:\n",
    "        #print(\"Appending Found elemnts:\" +str(elements))\n",
    "        new_row= {\"Name\":elements[1], \"Market Cap (US$ Billion)\":elements[2]} \n",
    "        data = data.append(new_row, ignore_index=True)\n",
    "    \n",
    "data.info()  "
   ]
  },
  {
   "cell_type": "markdown",
   "metadata": {},
   "source": [
    "**Question 3** Display the first five rows using the `head` function.\n"
   ]
  },
  {
   "cell_type": "code",
   "execution_count": 51,
   "metadata": {},
   "outputs": [
    {
     "data": {
      "text/html": [
       "<div>\n",
       "<style scoped>\n",
       "    .dataframe tbody tr th:only-of-type {\n",
       "        vertical-align: middle;\n",
       "    }\n",
       "\n",
       "    .dataframe tbody tr th {\n",
       "        vertical-align: top;\n",
       "    }\n",
       "\n",
       "    .dataframe thead th {\n",
       "        text-align: right;\n",
       "    }\n",
       "</style>\n",
       "<table border=\"1\" class=\"dataframe\">\n",
       "  <thead>\n",
       "    <tr style=\"text-align: right;\">\n",
       "      <th></th>\n",
       "      <th>Name</th>\n",
       "      <th>Market Cap (US$ Billion)</th>\n",
       "    </tr>\n",
       "  </thead>\n",
       "  <tbody>\n",
       "    <tr>\n",
       "      <th>0</th>\n",
       "      <td>JPMorgan Chase</td>\n",
       "      <td>390.934</td>\n",
       "    </tr>\n",
       "    <tr>\n",
       "      <th>1</th>\n",
       "      <td>Industrial and Commercial Bank of China</td>\n",
       "      <td>345.214</td>\n",
       "    </tr>\n",
       "    <tr>\n",
       "      <th>2</th>\n",
       "      <td>Bank of America</td>\n",
       "      <td>325.331</td>\n",
       "    </tr>\n",
       "    <tr>\n",
       "      <th>3</th>\n",
       "      <td>Wells Fargo</td>\n",
       "      <td>308.013</td>\n",
       "    </tr>\n",
       "    <tr>\n",
       "      <th>4</th>\n",
       "      <td>China Construction Bank</td>\n",
       "      <td>257.399</td>\n",
       "    </tr>\n",
       "  </tbody>\n",
       "</table>\n",
       "</div>"
      ],
      "text/plain": [
       "                                      Name Market Cap (US$ Billion)\n",
       "0                           JPMorgan Chase                  390.934\n",
       "1  Industrial and Commercial Bank of China                  345.214\n",
       "2                          Bank of America                  325.331\n",
       "3                              Wells Fargo                  308.013\n",
       "4                  China Construction Bank                  257.399"
      ]
     },
     "execution_count": 51,
     "metadata": {},
     "output_type": "execute_result"
    }
   ],
   "source": [
    "#Write your code here\n",
    "data.head()"
   ]
  },
  {
   "cell_type": "markdown",
   "metadata": {},
   "source": [
    "\n",
    "### Loading the Data\n",
    "\n",
    "Load the `pandas` dataframe created above into a JSON named `bank_market_cap.json` using the `to_json()` function.\n"
   ]
  },
  {
   "cell_type": "code",
   "execution_count": 53,
   "metadata": {},
   "outputs": [
    {
     "data": {
      "text/plain": [
       "'{\"Name\":{\"0\":\"JPMorgan Chase\",\"1\":\"Industrial and Commercial Bank of China\",\"2\":\"Bank of America\",\"3\":\"Wells Fargo\",\"4\":\"China Construction Bank\",\"5\":\"HSBC Holdings PLC\",\"6\":\"Agricultural Bank of China\",\"7\":\"Citigroup Inc.\",\"8\":\"Bank of China\",\"9\":\"China Merchants Bank\",\"10\":\"Royal Bank of Canada\",\"11\":\"Banco Santander\",\"12\":\"Commonwealth Bank\",\"13\":\"Mitsubishi UFJ Financial Group\",\"14\":\"Toronto-Dominion Bank\",\"15\":\"BNP Paribas\",\"16\":\"Goldman Sachs\",\"17\":\"Sberbank of Russia\",\"18\":\"Morgan Stanley\",\"19\":\"U.S. Bancorp\",\"20\":\"HDFC Bank\",\"21\":\"Ita\\\\u00fa Unibanco\",\"22\":\"Westpac\",\"23\":\"Scotiabank\",\"24\":\"ING Group\",\"25\":\"UBS\",\"26\":\"Charles Schwab\",\"27\":\"PNC Financial Services\",\"28\":\"Lloyds Banking Group\",\"29\":\"Sumitomo Mitsui Financial Group\",\"30\":\"Bank of Communications\",\"31\":\"Australia and New Zealand Banking Group\",\"32\":\"Banco Bradesco\",\"33\":\"National Australia Bank\",\"34\":\"Intesa Sanpaolo\",\"35\":\"Banco Bilbao Vizcaya Argentaria\",\"36\":\"Japan Post Bank\",\"37\":\"The Bank of New York Mellon\",\"38\":\"Shanghai Pudong Development Bank\",\"39\":\"Industrial Bank (China)\",\"40\":\"Bank of China (Hong Kong)\",\"41\":\"Bank of Montreal\",\"42\":\"Cr\\\\u00e9dit Agricole\",\"43\":\"DBS Bank\",\"44\":\"Nordea\",\"45\":\"Capital One\",\"46\":\"Royal Bank of Scotland Group\",\"47\":\"Mizuho Financial Group\",\"48\":\"Credit Suisse\",\"49\":\"Postal Savings Bank of China\",\"50\":\"China Minsheng Bank\",\"51\":\"UniCredit\",\"52\":\"China CITIC Bank\",\"53\":\"Hang Seng Bank\",\"54\":\"Soci\\\\u00e9t\\\\u00e9 G\\\\u00e9n\\\\u00e9rale\",\"55\":\"Barclays\",\"56\":\"Canadian Imperial Bank of Commerce\",\"57\":\"Bank Central Asia\",\"58\":\"Truist Financial\",\"59\":\"Oversea-Chinese Banking Corp\",\"60\":\"State Bank of India\",\"61\":\"State Street\",\"62\":\"Deutsche Bank\",\"63\":\"KBC Bank\",\"64\":\"Danske Bank\",\"65\":\"Ping An Bank\",\"66\":\"Standard Chartered\",\"67\":\"United Overseas Bank\",\"68\":\"QNB Group\",\"69\":\"Bank Rakyat\"},\"Market Cap (US$ Billion)\":{\"0\":\"390.934\",\"1\":\"345.214\",\"2\":\"325.331\",\"3\":\"308.013\",\"4\":\"257.399\",\"5\":\"219.270\",\"6\":\"203.244\",\"7\":\"203.165\",\"8\":\"181.469\",\"9\":\"122.616\",\"10\":\"122.564\",\"11\":\"115.696\",\"12\":\"112.227\",\"13\":\"111.660\",\"14\":\"108.449\",\"15\":\"103.258\",\"16\":\"100.705\",\"17\":\"99.840\",\"18\":\"99.651\",\"19\":\"94.558\",\"20\":\"100\",\"21\":\"86.203\",\"22\":\"84.560\",\"23\":\"78.947\",\"24\":\"78.920\",\"25\":\"75.482\",\"26\":\"74.255\",\"27\":\"72.246\",\"28\":\"71.253\",\"29\":\"67.328\",\"30\":\"67.078\",\"31\":\"66.448\",\"32\":\"64.816\",\"33\":\"63.794\",\"34\":\"62.032\",\"35\":\"60.678\",\"36\":\"60.525\",\"37\":\"59.823\",\"38\":\"58.796\",\"39\":\"57.388\",\"40\":\"55.449\",\"41\":\"53.181\",\"42\":\"52.141\",\"43\":\"51.475\",\"44\":\"51.185\",\"45\":\"51.107\",\"46\":\"50.490\",\"47\":\"50.018\",\"48\":\"48.462\",\"49\":\"47.948\",\"50\":\"47.921\",\"51\":\"47.777\",\"52\":\"47.451\",\"53\":\"46.171\",\"54\":\"46.051\",\"55\":\"45.850\",\"56\":\"43.544\",\"57\":\"43.344\",\"58\":\"41.923\",\"59\":\"41.362\",\"60\":\"40.562\",\"61\":\"39.769\",\"62\":\"38.649\",\"63\":\"38.394\",\"64\":\"38.223\",\"65\":\"37.993\",\"66\":\"37.319\",\"67\":\"35.128\",\"68\":\"33.560\",\"69\":\"33.081\"}}'"
      ]
     },
     "execution_count": 53,
     "metadata": {},
     "output_type": "execute_result"
    }
   ],
   "source": [
    "#Write your code here\n",
    "data.to_json()"
   ]
  },
  {
   "cell_type": "markdown",
   "metadata": {},
   "source": [
    "## Authors\n"
   ]
  },
  {
   "cell_type": "markdown",
   "metadata": {},
   "source": [
    "Ramesh Sannareddy, Joseph Santarcangelo and Azim Hirjani\n"
   ]
  },
  {
   "cell_type": "markdown",
   "metadata": {},
   "source": [
    "### Other Contributors\n"
   ]
  },
  {
   "cell_type": "markdown",
   "metadata": {},
   "source": [
    "Rav Ahuja\n"
   ]
  },
  {
   "cell_type": "markdown",
   "metadata": {},
   "source": [
    "## Change Log\n"
   ]
  },
  {
   "cell_type": "markdown",
   "metadata": {},
   "source": [
    "| Date (YYYY-MM-DD) | Version | Changed By        | Change Description                 |\n",
    "| ----------------- | ------- | ----------------- | ---------------------------------- |\n",
    "| 2022-07-12        | 0.2     | Appalabhaktula Hema | Corrected the code and markdown |\n",
    "| 2020-11-25        | 0.1     | Ramesh Sannareddy | Created initial version of the lab |\n"
   ]
  },
  {
   "cell_type": "markdown",
   "metadata": {},
   "source": [
    "Copyright © 2020 IBM Corporation.\n"
   ]
  }
 ],
 "metadata": {
  "kernelspec": {
   "display_name": "Python 3",
   "language": "python",
   "name": "python3"
  },
  "language_info": {
   "codemirror_mode": {
    "name": "ipython",
    "version": 3
   },
   "file_extension": ".py",
   "mimetype": "text/x-python",
   "name": "python",
   "nbconvert_exporter": "python",
   "pygments_lexer": "ipython3",
   "version": "3.8.3"
  }
 },
 "nbformat": 4,
 "nbformat_minor": 4
}
