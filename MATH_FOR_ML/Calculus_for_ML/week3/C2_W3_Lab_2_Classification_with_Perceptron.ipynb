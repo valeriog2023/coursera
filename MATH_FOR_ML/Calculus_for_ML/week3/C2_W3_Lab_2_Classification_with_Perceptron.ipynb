{
 "cells": [
  {
   "cell_type": "markdown",
   "metadata": {
    "id": "EAt-K2qgcIou"
   },
   "source": [
    "# Classification with Perceptron"
   ]
  },
  {
   "cell_type": "markdown",
   "metadata": {
    "id": "FZYK-0rin5x7"
   },
   "source": [
    "In this lab, you will use a single perceptron neural network model to solve a simple classification problem. "
   ]
  },
  {
   "cell_type": "markdown",
   "metadata": {},
   "source": [
    "# Table of Contents\n",
    "\n",
    "- [ 1 - Simple Classification Problem](#1)\n",
    "- [ 2 - Single Perceptron Neural Network with Activation Function](#2)\n",
    "  - [ 2.1 - Neural Network Structure](#2.1)\n",
    "  - [ 2.2 - Dataset](#2.2)\n",
    "  - [ 2.3 - Define Activation Function](#2.3)\n",
    "- [ 3 - Implementation of the Neural Network Model](#3)\n",
    "  - [ 3.1 - Defining the Neural Network Structure](#3.1)\n",
    "  - [ 3.2 - Initialize the Model's Parameters](#3.2)\n",
    "  - [ 3.3 - The Loop](#3.3)\n",
    "  - [ 3.4 - Integrate parts 3.1, 3.2 and 3.3 in nn_model() and make predictions](#3.4)\n",
    "- [ 4 - Performance on a Larger Dataset](#4)"
   ]
  },
  {
   "cell_type": "markdown",
   "metadata": {
    "id": "XI8PBrk_2Z4V"
   },
   "source": [
    "## Packages\n",
    "\n",
    "Let's first import all the packages that you will need during this lab."
   ]
  },
  {
   "cell_type": "code",
   "execution_count": 1,
   "metadata": {
    "tags": [
     "graded"
    ]
   },
   "outputs": [],
   "source": [
    "import numpy as np\n",
    "import matplotlib.pyplot as plt\n",
    "from matplotlib import colors\n",
    "# A function to create a dataset.\n",
    "from sklearn.datasets import make_blobs \n",
    "\n",
    "# Output of plotting commands is displayed inline within the Jupyter notebook.\n",
    "%matplotlib inline \n",
    "\n",
    "# Set a seed so that the results are consistent.\n",
    "np.random.seed(3)"
   ]
  },
  {
   "cell_type": "markdown",
   "metadata": {},
   "source": [
    "<a name='1'></a>\n",
    "## 1 - Simple Classification Problem\n",
    "\n",
    "**Classification** is the problem of identifying which of a set of categories an observation belongs to. In case of only two categories it is called a **binary classification problem**. Let's see a simple example of it.\n",
    "\n",
    "Imagine that you have a set of sentences which you want to classify as \"happy\" and \"angry\". And you identified that the sentences contain only two words: *aack* and *beep*. For each of the sentences (data point in the given dataset) you count the number of those two words ($x_1$ and $x_2$) and compare them with each other. If there are more \"beep\" ($x_2 > x_1$), the sentence should be classified as \"angry\", if not ($x_2 <= x_1$), it is a \"happy\" sentence. Which means that there will be some straight line separating those two classes.\n",
    "\n",
    "Let's take a very simple set of $4$ sentenses: \n",
    "- \"Beep!\" \n",
    "- \"Aack?\" \n",
    "- \"Beep aack...\" \n",
    "- \"!?\"\n",
    "\n",
    "Here both $x_1$ and $x_2$ will be either $0$ or $1$. You can plot those points in a plane, and see the points (observations) belong to two classes, \"angry\" (red) and \"happy\" (blue), and a straight line can be used as a decision boundary to separate those two classes. An example of such a line is plotted. "
   ]
  },
  {
   "cell_type": "code",
   "execution_count": 4,
   "metadata": {
    "tags": [
     "graded"
    ]
   },
   "outputs": [
    {
     "data": {
      "text/plain": [
       "[]"
      ]
     },
     "execution_count": 4,
     "metadata": {},
     "output_type": "execute_result"
    },
    {
     "data": {
      "image/png": "[encoded data removed]",
      "text/plain": [
       "<Figure size 640x480 with 1 Axes>"
      ]
     },
     "metadata": {},
     "output_type": "display_data"
    }
   ],
   "source": [
    "fig, ax = plt.subplots()\n",
    "xmin, xmax = -0.2, 1.4\n",
    "x_line = np.arange(xmin, xmax, 0.1)\n",
    "# Data points (observations) from two classes.\n",
    "ax.scatter(0, 0, color=\"b\")\n",
    "ax.scatter(0, 1, color=\"r\")\n",
    "ax.scatter(1, 0, color=\"b\")\n",
    "ax.scatter(1, 1, color=\"b\")\n",
    "ax.set_xlim([xmin, xmax])\n",
    "ax.set_ylim([-0.1, 1.1])\n",
    "# the $x_<N>$ is displayed as an X with an index of value <N>\n",
    "ax.set_xlabel('$x_1$')\n",
    "ax.set_ylabel('$x_2$')\n",
    "# One of the lines which can be used as a decision boundary to separate two classes.\n",
    "ax.plot(x_line, x_line + 0.5, color=\"black\")\n",
    "plt.plot()"
   ]
  },
  {
   "cell_type": "markdown",
   "metadata": {},
   "source": [
    "This particular line is chosen using common sense, just looking at the visual representation of the observations. Such classification problem is called a problem with **two linearly separable classes**.\n",
    "\n",
    "The line $x_1-x_2+0.5 = 0$ (or $x_2 = x_1 + 0.5$) can be used as a separating line for the problem. All of the points $(x_1, x_2)$ above this line, such that $x_1-x_2+0.5 < 0$ (or $x_2 > x_1 + 0.5$), will be considered belonging to the red class, and below this line $x_1-x_2+0.5 > 0$ ($x_2 < x_1 + 0.5$) - belonging to the blue class. So the problem can be rephrased: in the expression $w_1x_1+w_2x_2+b=0$ find the values for the parameters $w_1$, $w_2$ and the threshold $b$, so that the line can serve as a decision boundary.\n",
    "\n",
    "In this simple example you could solve the problem of finding the decision boundary just looking at the plot: $w_1 = 1$, $w_2 = -1$, $b = 0.5$. But what if the problem is more complicated? You can use a simple neural network model to do that! Let's implement it for this example and then try it for more complicated problem."
   ]
  },
  {
   "cell_type": "markdown",
   "metadata": {},
   "source": [
    "<a name='2'></a>\n",
    "## 2 - Single Perceptron Neural Network with Activation Function\n",
    "\n",
    "You already have constructed and trained a neural network model with one **perceptron**. Here a similar model can be used, but with an activation function. Then a single perceptron basically works as a threshold function."
   ]
  },
  {
   "cell_type": "markdown",
   "metadata": {},
   "source": [
    "<a name='2.1'></a>\n",
    "### 2.1 - Neural Network Structure"
   ]
  },
  {
   "cell_type": "markdown",
   "metadata": {},
   "source": [
    "The neural network components are shown in the following scheme:\n",
    "\n",
    "<img src=\"images/nn_model_classification_1_layer.png\" style=\"width:600px;\">\n",
    "\n",
    "Similarly to the previous lab, the input layer contains two nodes $x_1$ and $x_2$. Weight vector $W = \\begin{bmatrix} w_1 & w_2\\end{bmatrix}$ and bias ($b$) are the parameters to be updated during the model training. First step in the forward propagation is the same as in the previous lab. For every training example $x^{(i)} = \\begin{bmatrix} x_1^{(i)} & x_2^{(i)}\\end{bmatrix}$:\n",
    "\n",
    "$$z^{(i)} = w_1x_1^{(i)} + w_2x_2^{(i)} + b = Wx^{(i)} + b.\\tag{1}$$\n"
   ]
  },
  {
   "cell_type": "markdown",
   "metadata": {},
   "source": [
    "But now you cannot take a real number $z^{(i)}$ into the output as you need to perform classification. It could be done with a discrete approach: compare the result with zero, and classify as $0$ (blue) if it is below zero and $1$ (red) if it is above zero. Then define cost function as a percentage of incorrectly identified classes and perform backward propagation.\n",
    "\n",
    "This extra step in the forward propagation is actually an application of an **activation function**. It would be possible to implement the discrete approach described above (with unit step function) for this problem, but it turns out that there is a continuous approach that works better and is commonly used in more complicated neural networks. So you will implement it here: single perceptron with sigmoid activation function."
   ]
  },
  {
   "cell_type": "markdown",
   "metadata": {},
   "source": [
    "Sigmoid activation function is defined as\n",
    "\n",
    "$$a = \\sigma\\left(z\\right) = \\frac{1}{1+e^{-z}}.\\tag{2}$$\n",
    "\n",
    "Then a threshold value of $0.5$ can be used for predictions: $1$ (red) if  $a > 0.5$ and $0$ (blue) otherwise. Putting it all together, mathematically the single perceptron neural network with sigmoid activation function can be expressed as:\n",
    "\n",
    "\\begin{align}\n",
    "z^{(i)} &=  W x^{(i)} + b,\\\\\n",
    "a^{(i)} &= \\sigma\\left(z^{(i)}\\right).\\\\\\tag{3}\n",
    "\\end{align}"
   ]
  },
  {
   "cell_type": "markdown",
   "metadata": {},
   "source": [
    "If you have $m$ training examples organised in the columns of ($2 \\times m$) matrix $X$, you can apply the activation function element-wise. So the model can be written as:\n",
    "\n",
    "\\begin{align}\n",
    "Z &=  W X + b,\\\\\n",
    "A &= \\sigma\\left(Z\\right),\\\\\\tag{4}\n",
    "\\end{align}\n",
    "\n",
    "where $b$ is broadcasted to the vector of a size ($1 \\times m$). \n",
    "\n",
    "When dealing with classification problems, the most commonly used cost function is the **log loss**, which is described by the following equation:\n",
    "\n",
    "$$\\mathcal{L}\\left(W, b\\right) = \\frac{1}{m}\\sum_{i=1}^{m} L\\left(W, b\\right) = \\frac{1}{m}\\sum_{i=1}^{m}  \\large\\left(\\small -y^{(i)}\\log\\left(a^{(i)}\\right) - (1-y^{(i)})\\log\\left(1- a^{(i)}\\right)  \\large  \\right) \\small,\\tag{5}$$\n",
    "\n",
    "where $y^{(i)} \\in \\{0,1\\}$ are the original labels (either 0 or 1) and $a^{(i)}$ are the continuous output values of the forward propagation step (elements of array $A$).\n",
    "\n"
   ]
  },
  {
   "cell_type": "markdown",
   "metadata": {},
   "source": [
    "----------------------\n",
    "\n",
    "My edit: the log loss function comes from some statistics analysis;\n",
    "    \n",
    "when $y^{(i)}$ is zero, only the second term matter and when  $y^{(i)}$ is one, only the first term matter; \n",
    "\n",
    "So the first part of each term is used as a selector. \n",
    "\n",
    "The second part (the log part) is\n",
    "- big if the predicted value $a^{(i)}$ is far from the actual value $y^{(i)}$ \n",
    "- close to zero if they are similar. \n",
    "\n",
    "Finally, you have a sum of logs because, if we were considering probabilties (indipendent) events you would have to multiply the different probabilities and that multiplication, when taking the logarithm, becomes the sum of the terms.. \n",
    "\n",
    "In summary, the log loss, function gives a measure of the probability to get a particular set of results..\n",
    "\n",
    "As an example: let's assume we have 2 events and 2 predicted values:\n",
    "$y^{(1)}$ = 1,  $y^{(2)}$ = 0,  $a^{(1)}$ = 0.9, $a^{(2)}$ = 0.6\n",
    "\n",
    "−log(0.9) − log(1−0.6)\n",
    "\n",
    "The first log, because the guess is very close to the correct answer (1) gives a small amount of error (around  -0.1 )\n",
    "\n",
    "The second log, because the guess is quite far from the correct answer (0) gives a bigger error (around -0.9)\n",
    "\n",
    "Note the error becomes positive because of the - sign in front of them\n",
    "\n",
    "\n",
    "------------------------"
   ]
  },
  {
   "cell_type": "markdown",
   "metadata": {},
   "source": [
    "You want to minimize the cost function during the training. To implement gradient descent, calculate partial derivatives using chain rule:\n",
    "\n",
    "\\begin{align}\n",
    "\\frac{\\partial \\mathcal{L} }{ \\partial w_1 } &= \n",
    "\\frac{1}{m}\\sum_{i=1}^{m} \\frac{\\partial L }{ \\partial a^{(i)}}\n",
    "\\frac{\\partial a^{(i)} }{ \\partial z^{(i)}}\\frac{\\partial z^{(i)} }{ \\partial w_1},\\\\\n",
    "\\frac{\\partial \\mathcal{L} }{ \\partial w_2 } &= \n",
    "\\frac{1}{m}\\sum_{i=1}^{m} \\frac{\\partial L }{ \\partial a^{(i)}}\n",
    "\\frac{\\partial a^{(i)} }{ \\partial z^{(i)}}\\frac{\\partial z^{(i)} }{ \\partial w_2},\\tag{6}\\\\\n",
    "\\frac{\\partial \\mathcal{L} }{ \\partial b } &= \n",
    "\\frac{1}{m}\\sum_{i=1}^{m} \\frac{\\partial L }{ \\partial a^{(i)}}\n",
    "\\frac{\\partial a^{(i)} }{ \\partial z^{(i)}}\\frac{\\partial z^{(i)} }{ \\partial b}.\n",
    "\\end{align}\n",
    "\n",
    "As discussed in the videos, $\\frac{\\partial L }{ \\partial a^{(i)}}\n",
    "\\frac{\\partial a^{(i)} }{ \\partial z^{(i)}} = \\left(a^{(i)} - y^{(i)}\\right)$, $\\frac{\\partial z^{(i)}}{ \\partial w_1} = x_1^{(i)}$, $\\frac{\\partial z^{(i)}}{ \\partial w_2} = x_2^{(i)}$ and $\\frac{\\partial z^{(i)}}{ \\partial b} = 1$. Then $(6)$ can be rewritten as:\n",
    "\n",
    "\\begin{align}\n",
    "\\frac{\\partial \\mathcal{L} }{ \\partial w_1 } &= \n",
    "\\frac{1}{m}\\sum_{i=1}^{m} \\left(a^{(i)} - y^{(i)}\\right)x_1^{(i)},\\\\\n",
    "\\frac{\\partial \\mathcal{L} }{ \\partial w_2 } &= \n",
    "\\frac{1}{m}\\sum_{i=1}^{m} \\left(a^{(i)} - y^{(i)}\\right)x_2^{(i)},\\tag{7}\\\\\n",
    "\\frac{\\partial \\mathcal{L} }{ \\partial b } &= \n",
    "\\frac{1}{m}\\sum_{i=1}^{m} \\left(a^{(i)} - y^{(i)}\\right).\n",
    "\\end{align}\n",
    "\n",
    "Note that the obtained expressions $(7)$ are exactly the same as in the section $3.2$ of the previous lab, when multiple linear regression model was discussed. Thus, they can be rewritten in a matrix form:\n",
    "\n",
    "\\begin{align}\n",
    "\\frac{\\partial \\mathcal{L} }{ \\partial W } &= \n",
    "\\begin{bmatrix} \\frac{\\partial \\mathcal{L} }{ \\partial w_1 } & \n",
    "\\frac{\\partial \\mathcal{L} }{ \\partial w_2 }\\end{bmatrix} = \\frac{1}{m}\\left(A - Y\\right)X^T,\\\\\n",
    "\\frac{\\partial \\mathcal{L} }{ \\partial b } &= \\frac{1}{m}\\left(A - Y\\right)\\mathbf{1}.\n",
    "\\tag{8}\n",
    "\\end{align}\n",
    "\n",
    "where $\\left(A - Y\\right)$ is an array of a shape ($1 \\times m$), $X^T$ is an array of a shape ($m \\times 2$) and $\\mathbf{1}$ is just a ($m \\times 1$) vector of ones.\n",
    "\n"
   ]
  },
  {
   "cell_type": "markdown",
   "metadata": {},
   "source": [
    "Then you can update the parameters:\n",
    "\n",
    "\\begin{align}\n",
    "W &= W - \\alpha \\frac{\\partial \\mathcal{L} }{ \\partial W },\\\\\n",
    "b &= b - \\alpha \\frac{\\partial \\mathcal{L} }{ \\partial b },\n",
    "\\tag{9}\\end{align}\n",
    "\n",
    "where $\\alpha$ is the learning rate. Repeat the process in a loop until the cost function stops decreasing."
   ]
  },
  {
   "cell_type": "markdown",
   "metadata": {},
   "source": [
    "Finally, the predictions for some example $x$ can be made taking the output $a$ and calculating $\\hat{y}$ as"
   ]
  },
  {
   "cell_type": "markdown",
   "metadata": {},
   "source": [
    "$$\\hat{y} = \\begin{cases} 1 & \\mbox{if } a > 0.5 \\\\ 0 & \\mbox{otherwise } \\end{cases}\\tag{10}$$"
   ]
  },
  {
   "cell_type": "markdown",
   "metadata": {},
   "source": [
    "<a name='2.2'></a>\n",
    "### 2.2 - Dataset\n",
    "\n",
    "Let's get the dataset you will work on. The following code will create $m=30$ data points $(x_1, x_2)$, where $x_1, x_2 \\in \\{0,1\\}$ and save them in the `NumPy` array `X` of a shape $(2 \\times m)$ (in the columns of the array). The labels ($0$: blue, $1$: red) will be calculated so that $y = 1$ if $x_1 = 0$ and $x_2 = 1$, in the rest of the cases $y=0$. The labels will be saved in the array `Y` of a shape $(1 \\times m)$."
   ]
  },
  {
   "cell_type": "code",
   "execution_count": 10,
   "metadata": {
    "tags": [
     "graded"
    ]
   },
   "outputs": [
    {
     "name": "stdout",
     "output_type": "stream",
     "text": [
      "Training dataset X containing (x1, x2) coordinates in the columns:\n",
      "[[1 0 0 0 1 0 1 1 1 1 1 0 0 1 0 1 1 0 0 1 0 1 0 0 0 0 1 1 0 1]\n",
      " [0 0 0 1 0 0 0 1 1 1 0 0 0 1 0 1 0 0 0 1 0 1 1 1 0 0 0 1 1 0]]\n",
      "Training dataset Y containing labels of two classes (0: blue, 1: red)\n",
      "[[0 0 0 1 0 0 0 0 0 0 0 0 0 0 0 0 0 0 0 0 0 0 1 1 0 0 0 0 1 0]]\n",
      "The shape of X is: (2, 30)\n",
      "The shape of Y is: (1, 30)\n",
      "I have m = 30 training examples!\n"
     ]
    }
   ],
   "source": [
    "m = 30\n",
    "\n",
    "# This gives back a matrix with 2 rows and m columns\n",
    "# with random int between zero (included) and 2 excluded\n",
    "X = np.random.randint(0, 2, (2, m))\n",
    "#\n",
    "# this puts in and the values of the 2 rows and if they are\n",
    "# zero in row1 and 1 in row2 it gives a one, otherwise it gives a zero\n",
    "# the reshape is used because again we want a matrix with one row (we would have an array otherwise)\n",
    "Y = np.logical_and(X[0] == 0, X[1] == 1).astype(int).reshape((1, m))\n",
    "\n",
    "print('Training dataset X containing (x1, x2) coordinates in the columns:')\n",
    "print(X)\n",
    "print('Training dataset Y containing labels of two classes (0: blue, 1: red)')\n",
    "print(Y)\n",
    "\n",
    "print ('The shape of X is: ' + str(X.shape))\n",
    "print ('The shape of Y is: ' + str(Y.shape))\n",
    "print ('I have m = %d training examples!' % (X.shape[1]))"
   ]
  },
  {
   "cell_type": "markdown",
   "metadata": {},
   "source": [
    "<a name='2.3'></a>\n",
    "### 2.3 - Define Activation Function\n",
    "\n",
    "The sigmoid function $(2)$ for a variable $z$ can be defined with the following code:"
   ]
  },
  {
   "cell_type": "code",
   "execution_count": 11,
   "metadata": {
    "tags": [
     "graded"
    ]
   },
   "outputs": [
    {
     "name": "stdout",
     "output_type": "stream",
     "text": [
      "sigmoid(-2) = 0.11920292202211755\n",
      "sigmoid(0) = 0.5\n",
      "sigmoid(3.5) = 0.9706877692486436\n"
     ]
    }
   ],
   "source": [
    "def sigmoid(z):\n",
    "    return 1/(1 + np.exp(-z))\n",
    "    \n",
    "print(\"sigmoid(-2) = \" + str(sigmoid(-2)))\n",
    "print(\"sigmoid(0) = \" + str(sigmoid(0)))\n",
    "print(\"sigmoid(3.5) = \" + str(sigmoid(3.5)))"
   ]
  },
  {
   "cell_type": "markdown",
   "metadata": {},
   "source": [
    "It can be applied to a `NumPy` array element by element:"
   ]
  },
  {
   "cell_type": "code",
   "execution_count": 12,
   "metadata": {
    "tags": [
     "graded"
    ]
   },
   "outputs": [
    {
     "name": "stdout",
     "output_type": "stream",
     "text": [
      "[0.11920292 0.5        0.97068777]\n"
     ]
    }
   ],
   "source": [
    "# applying the sigmoid function to an array\n",
    "# just means that you are going to  run the activation function\n",
    "# on the results (predicted values) of the models\n",
    "print(sigmoid(np.array([-2, 0, 3.5])))"
   ]
  },
  {
   "cell_type": "markdown",
   "metadata": {},
   "source": [
    "<a name='3'></a>\n",
    "## 3 - Implementation of the Neural Network Model\n",
    "\n",
    "Implementation of the described neural network will be very similar to the previous lab. The differences will be only in the functions `forward_propagation` and `compute_cost`!"
   ]
  },
  {
   "cell_type": "markdown",
   "metadata": {},
   "source": [
    "<a name='3.1'></a>\n",
    "### 3.1 - Defining the Neural Network Structure"
   ]
  },
  {
   "cell_type": "markdown",
   "metadata": {},
   "source": [
    "Define two variables:\n",
    "- `n_x`: the size of the input layer\n",
    "- `n_y`: the size of the output layer\n",
    "\n",
    "using shapes of arrays `X` and `Y`."
   ]
  },
  {
   "cell_type": "code",
   "execution_count": 13,
   "metadata": {
    "tags": [
     "graded"
    ]
   },
   "outputs": [
    {
     "name": "stdout",
     "output_type": "stream",
     "text": [
      "The size of the input layer is: n_x = 2\n",
      "The size of the output layer is: n_y = 1\n"
     ]
    }
   ],
   "source": [
    "def layer_sizes(X, Y):\n",
    "    \"\"\"\n",
    "    Arguments:\n",
    "    X -- input dataset of shape (input size, number of examples)\n",
    "    Y -- labels of shape (output size, number of examples)\n",
    "    \n",
    "    Returns:\n",
    "    n_x -- the size of the input layer\n",
    "    n_y -- the size of the output layer\n",
    "    \"\"\"\n",
    "    n_x = X.shape[0]\n",
    "    n_y = Y.shape[0]\n",
    "    \n",
    "    return (n_x, n_y)\n",
    "\n",
    "(n_x, n_y) = layer_sizes(X, Y)\n",
    "print(\"The size of the input layer is: n_x = \" + str(n_x))\n",
    "print(\"The size of the output layer is: n_y = \" + str(n_y))"
   ]
  },
  {
   "cell_type": "markdown",
   "metadata": {},
   "source": [
    "<a name='3.2'></a>\n",
    "### 3.2 - Initialize the Model's Parameters"
   ]
  },
  {
   "cell_type": "markdown",
   "metadata": {},
   "source": [
    "Implement the function `initialize_parameters()`, initializing the weights array of shape $(n_y \\times n_x) = (1 \\times 1)$ with random values and the bias vector of shape $(n_y \\times 1) = (1 \\times 1)$ with zeros."
   ]
  },
  {
   "cell_type": "code",
   "execution_count": 14,
   "metadata": {
    "tags": [
     "graded"
    ]
   },
   "outputs": [
    {
     "name": "stdout",
     "output_type": "stream",
     "text": [
      "W = [[ 0.00425967 -0.00149014]]\n",
      "b = [[0.]]\n"
     ]
    }
   ],
   "source": [
    "def initialize_parameters(n_x, n_y):\n",
    "    \"\"\"\n",
    "    Returns:\n",
    "    params -- python dictionary containing your parameters:\n",
    "                    W -- weight matrix of shape (n_y, n_x)\n",
    "                    b -- bias value set as a vector of shape (n_y, 1)\n",
    "    \"\"\"\n",
    "    \n",
    "    W = np.random.randn(n_y, n_x) * 0.01\n",
    "    b = np.zeros((n_y, 1))\n",
    "\n",
    "    parameters = {\"W\": W,\n",
    "                  \"b\": b}\n",
    "    \n",
    "    return parameters\n",
    "\n",
    "parameters = initialize_parameters(n_x, n_y)\n",
    "print(\"W = \" + str(parameters[\"W\"]))\n",
    "print(\"b = \" + str(parameters[\"b\"]))"
   ]
  },
  {
   "cell_type": "markdown",
   "metadata": {},
   "source": [
    "<a name='3.3'></a>\n",
    "### 3.3 - The Loop"
   ]
  },
  {
   "cell_type": "markdown",
   "metadata": {},
   "source": [
    "Implement `forward_propagation()` following the equation $(4)$ in the section [2.1](#2.1):\n",
    "\\begin{align}\n",
    "Z &=  W X + b,\\\\\n",
    "A &= \\sigma\\left(Z\\right).\n",
    "\\end{align}"
   ]
  },
  {
   "cell_type": "code",
   "execution_count": 15,
   "metadata": {
    "tags": [
     "graded"
    ]
   },
   "outputs": [
    {
     "name": "stdout",
     "output_type": "stream",
     "text": [
      "Output vector A: [[0.50106492 0.5        0.5        0.49962747 0.50106492 0.5\n",
      "  0.50106492 0.50069238 0.50069238 0.50069238 0.50106492 0.5\n",
      "  0.5        0.50069238 0.5        0.50069238 0.50106492 0.5\n",
      "  0.5        0.50069238 0.5        0.50069238 0.49962747 0.49962747\n",
      "  0.5        0.5        0.50106492 0.50069238 0.49962747 0.50106492]]\n"
     ]
    }
   ],
   "source": [
    "def forward_propagation(X, parameters):\n",
    "    \"\"\"\n",
    "    Argument:\n",
    "    X -- input data of size (n_x, m)\n",
    "    parameters -- python dictionary containing your parameters (output of initialization function)\n",
    "    \n",
    "    Returns:\n",
    "    A -- The output\n",
    "    \"\"\"\n",
    "    W = parameters[\"W\"]\n",
    "    b = parameters[\"b\"]\n",
    "    \n",
    "    # Forward Propagation to calculate Z.\n",
    "    Z = np.matmul(W, X) + b\n",
    "    A = sigmoid(Z)\n",
    "\n",
    "    return A\n",
    "#\n",
    "# this baically runs the model with bparamters in the vecotr W and with bias b\n",
    "# against all the trainign set contained in X\n",
    "# Note that in the simplest example, W is a matrix 1x2\n",
    "# and X is 2x30 (features x numbers of input points)\n",
    "# The resulting matrix 1 x 30 is then sent to the activation function\n",
    "# which will get back a value between 0 and 1 for each estimate\n",
    "A = forward_propagation(X, parameters)\n",
    "\n",
    "print(\"Output vector A:\", A)"
   ]
  },
  {
   "cell_type": "markdown",
   "metadata": {},
   "source": [
    "Your weights were just initialized with some random values, so the model has not been trained yet. \n",
    "\n",
    "Define a cost function $(5)$ which will be used to train the model:\n",
    "\n",
    "$$\\mathcal{L}\\left(W, b\\right)  = \\frac{1}{m}\\sum_{i=1}^{m}  \\large\\left(\\small -y^{(i)}\\log\\left(a^{(i)}\\right) - (1-y^{(i)})\\log\\left(1- a^{(i)}\\right)  \\large  \\right) \\small.$$"
   ]
  },
  {
   "cell_type": "code",
   "execution_count": 16,
   "metadata": {
    "tags": [
     "graded"
    ]
   },
   "outputs": [
    {
     "name": "stdout",
     "output_type": "stream",
     "text": [
      "cost = 0.6941135768266641\n"
     ]
    }
   ],
   "source": [
    "def compute_cost(A, Y):\n",
    "    \"\"\"\n",
    "    Computes the log loss cost function\n",
    "    \n",
    "    Arguments:\n",
    "    A -- The output of the neural network of shape (n_y, number of examples)\n",
    "    Y -- \"true\" labels vector of shape (n_y, number of examples)\n",
    "    \n",
    "    Returns:\n",
    "    cost -- log loss\n",
    "    \n",
    "    \"\"\"\n",
    "    # Number of examples.\n",
    "    # remember that Y is a vector of zeros and ones\n",
    "    m = Y.shape[1]\n",
    "\n",
    "    # Compute the cost function.\n",
    "    # using numpy we get in parallel the value of the logloss function for each point and estimate\n",
    "    logprobs = - np.multiply(np.log(A),Y) - np.multiply(np.log(1 - A),1 - Y)\n",
    "    # then we sum all the results and divide by their number (basically this is the mean)\n",
    "    cost = 1/m * np.sum(logprobs)\n",
    "    \n",
    "    return cost\n",
    "\n",
    "print(\"cost = \" + str(compute_cost(A, Y)))"
   ]
  },
  {
   "cell_type": "markdown",
   "metadata": {
    "tags": [
     "graded"
    ]
   },
   "source": [
    "Calculate partial derivatives as shown in $(8)$:\n",
    "\n",
    "\\begin{align}\n",
    "\\frac{\\partial \\mathcal{L} }{ \\partial W } &= \\frac{1}{m}\\left(A - Y\\right)X^T,\\\\\n",
    "\\frac{\\partial \\mathcal{L} }{ \\partial b } &= \\frac{1}{m}\\left(A - Y\\right)\\mathbf{1}.\n",
    "\\end{align}"
   ]
  },
  {
   "cell_type": "code",
   "execution_count": 20,
   "metadata": {},
   "outputs": [
    {
     "name": "stdout",
     "output_type": "stream",
     "text": [
      "dW = [[0.25043312 0.06680163]]\n",
      "db = [[0.36705011]]\n"
     ]
    }
   ],
   "source": [
    "def backward_propagation(A, X, Y):\n",
    "    \"\"\"\n",
    "    Implements the backward propagation, calculating gradients\n",
    "    \n",
    "    Arguments:\n",
    "    A -- the output of the neural network of shape (n_y, number of examples) - includes activation function\n",
    "    X -- input data of shape (n_x, number of examples)\n",
    "    Y -- \"true\" labels vector of shape (n_y, number of examples)\n",
    "    \n",
    "    Returns:\n",
    "    grads -- python dictionary containing gradients with respect to different parameters\n",
    "    \"\"\"\n",
    "    m = X.shape[1]\n",
    "    \n",
    "    # Backward propagation: calculate partial derivatives denoted as dW, db for simplicity. \n",
    "    dZ = A - Y\n",
    "    dW = 1/m * np.dot(dZ, X.T)\n",
    "    #\n",
    "    # np.sum(dZ) will sum all the values in the matrix and give a scalar\n",
    "    # np.sum(dZ, axis = 1) will sum all the values  sum along the axis = 1 (rows)\n",
    "    #.          the result is an array of values, which means we lose one dimension\n",
    "    # np.sum(dZ, axis = 1, keepdims = True) this is the same as before but we keep\n",
    "    #           the original matrix size, which means that the sum of each row goes into its own row\n",
    "    #           This is required if you then want to keep doing matrix operations\n",
    "    #           because you are not allowed to for isntance add a vector to a matrix as the number of \n",
    "    #           dimensions is different\n",
    "    # print(dZ)\n",
    "    # print( np.sum(dZ))\n",
    "    # print( np.sum(dZ,axis=1))\n",
    "    db = 1/m * np.sum(dZ, axis = 1, keepdims = True)\n",
    "    # print(db * m)\n",
    "    grads = {\"dW\": dW,\n",
    "             \"db\": db}\n",
    "    \n",
    "    return grads\n",
    "\n",
    "grads = backward_propagation(A, X, Y)\n",
    "\n",
    "print(\"dW = \" + str(grads[\"dW\"]))\n",
    "print(\"db = \" + str(grads[\"db\"]))"
   ]
  },
  {
   "cell_type": "markdown",
   "metadata": {},
   "source": [
    "Update parameters as shown in $(9)$:\n",
    "\n",
    "\\begin{align}\n",
    "W &= W - \\alpha \\frac{\\partial \\mathcal{L} }{ \\partial W },\\\\\n",
    "b &= b - \\alpha \\frac{\\partial \\mathcal{L} }{ \\partial b }.\\end{align}"
   ]
  },
  {
   "cell_type": "code",
   "execution_count": 21,
   "metadata": {},
   "outputs": [
    {
     "name": "stdout",
     "output_type": "stream",
     "text": [
      "W updated = [[-0.29626007 -0.08165209]]\n",
      "b updated = [[-0.44046013]]\n"
     ]
    }
   ],
   "source": [
    "def update_parameters(parameters, grads, learning_rate=1.2):\n",
    "    \"\"\"\n",
    "    Updates parameters using the gradient descent update rule\n",
    "    \n",
    "    Arguments:\n",
    "    parameters -- python dictionary containing parameters \n",
    "    grads -- python dictionary containing gradients \n",
    "    learning_rate -- learning rate parameter for gradient descent\n",
    "    \n",
    "    Returns:\n",
    "    parameters -- python dictionary containing updated parameters \n",
    "    \"\"\"\n",
    "    # Retrieve each parameter from the dictionary \"parameters\".\n",
    "    W = parameters[\"W\"]\n",
    "    b = parameters[\"b\"]\n",
    "    \n",
    "    # Retrieve each gradient from the dictionary \"grads\".\n",
    "    dW = grads[\"dW\"]\n",
    "    db = grads[\"db\"]\n",
    "    \n",
    "    # Update rule for each parameter.\n",
    "    W = W - learning_rate * dW\n",
    "    b = b - learning_rate * db\n",
    "    \n",
    "    parameters = {\"W\": W,\n",
    "                  \"b\": b}\n",
    "    \n",
    "    return parameters\n",
    "\n",
    "parameters_updated = update_parameters(parameters, grads)\n",
    "\n",
    "print(\"W updated = \" + str(parameters_updated[\"W\"]))\n",
    "print(\"b updated = \" + str(parameters_updated[\"b\"]))"
   ]
  },
  {
   "cell_type": "markdown",
   "metadata": {},
   "source": [
    "<a name='3.4'></a>\n",
    "### 3.4 - Integrate parts 3.1, 3.2 and 3.3 in nn_model() and make predictions"
   ]
  },
  {
   "cell_type": "markdown",
   "metadata": {},
   "source": [
    "Build your neural network model in `nn_model()`."
   ]
  },
  {
   "cell_type": "code",
   "execution_count": 22,
   "metadata": {
    "tags": [
     "graded"
    ]
   },
   "outputs": [],
   "source": [
    "def nn_model(X, Y, num_iterations=10, learning_rate=1.2, print_cost=False):\n",
    "    \"\"\"\n",
    "    Arguments:\n",
    "    X -- dataset of shape (n_x, number of examples)\n",
    "    Y -- labels of shape (n_y, number of examples)\n",
    "    num_iterations -- number of iterations in the loop\n",
    "    learning_rate -- learning rate parameter for gradient descent\n",
    "    print_cost -- if True, print the cost every iteration\n",
    "    \n",
    "    Returns:\n",
    "    parameters -- parameters learnt by the model. They can then be used to make predictions.\n",
    "    \"\"\"\n",
    "    \n",
    "    n_x = layer_sizes(X, Y)[0]\n",
    "    n_y = layer_sizes(X, Y)[1]\n",
    "    \n",
    "    parameters = initialize_parameters(n_x, n_y)\n",
    "    \n",
    "    # Loop\n",
    "    for i in range(0, num_iterations):\n",
    "         \n",
    "        # Forward propagation. Inputs: \"X, parameters\". Outputs: \"A\".\n",
    "        A = forward_propagation(X, parameters)\n",
    "        \n",
    "        # Cost function. Inputs: \"A, Y\". Outputs: \"cost\".\n",
    "        cost = compute_cost(A, Y)\n",
    "        \n",
    "        # Backpropagation. Inputs: \"A, X, Y\". Outputs: \"grads\".\n",
    "        grads = backward_propagation(A, X, Y)\n",
    "    \n",
    "        # Gradient descent parameter update. Inputs: \"parameters, grads, learning_rate\". Outputs: \"parameters\".\n",
    "        parameters = update_parameters(parameters, grads, learning_rate)\n",
    "        \n",
    "        # Print the cost every iteration.\n",
    "        if print_cost:\n",
    "            print (\"Cost after iteration %i: %f\" %(i, cost))\n",
    "\n",
    "    return parameters"
   ]
  },
  {
   "cell_type": "code",
   "execution_count": 23,
   "metadata": {
    "tags": [
     "graded"
    ]
   },
   "outputs": [
    {
     "name": "stdout",
     "output_type": "stream",
     "text": [
      "Cost after iteration 0: 0.695573\n",
      "Cost after iteration 1: 0.502820\n",
      "Cost after iteration 2: 0.430382\n",
      "Cost after iteration 3: 0.393794\n",
      "Cost after iteration 4: 0.370661\n",
      "Cost after iteration 5: 0.353662\n",
      "Cost after iteration 6: 0.339890\n",
      "Cost after iteration 7: 0.328024\n",
      "Cost after iteration 8: 0.317401\n",
      "Cost after iteration 9: 0.307666\n",
      "Cost after iteration 10: 0.298614\n",
      "Cost after iteration 11: 0.290118\n",
      "Cost after iteration 12: 0.282100\n",
      "Cost after iteration 13: 0.274503\n",
      "Cost after iteration 14: 0.267286\n",
      "Cost after iteration 15: 0.260417\n",
      "Cost after iteration 16: 0.253869\n",
      "Cost after iteration 17: 0.247622\n",
      "Cost after iteration 18: 0.241654\n",
      "Cost after iteration 19: 0.235948\n",
      "Cost after iteration 20: 0.230488\n",
      "Cost after iteration 21: 0.225259\n",
      "Cost after iteration 22: 0.220247\n",
      "Cost after iteration 23: 0.215440\n",
      "Cost after iteration 24: 0.210824\n",
      "Cost after iteration 25: 0.206391\n",
      "Cost after iteration 26: 0.202129\n",
      "Cost after iteration 27: 0.198028\n",
      "Cost after iteration 28: 0.194081\n",
      "Cost after iteration 29: 0.190278\n",
      "Cost after iteration 30: 0.186612\n",
      "Cost after iteration 31: 0.183076\n",
      "Cost after iteration 32: 0.179663\n",
      "Cost after iteration 33: 0.176367\n",
      "Cost after iteration 34: 0.173182\n",
      "Cost after iteration 35: 0.170103\n",
      "Cost after iteration 36: 0.167124\n",
      "Cost after iteration 37: 0.164241\n",
      "Cost after iteration 38: 0.161450\n",
      "Cost after iteration 39: 0.158745\n",
      "Cost after iteration 40: 0.156124\n",
      "Cost after iteration 41: 0.153582\n",
      "Cost after iteration 42: 0.151116\n",
      "Cost after iteration 43: 0.148723\n",
      "Cost after iteration 44: 0.146399\n",
      "Cost after iteration 45: 0.144141\n",
      "Cost after iteration 46: 0.141948\n",
      "Cost after iteration 47: 0.139816\n",
      "Cost after iteration 48: 0.137742\n",
      "Cost after iteration 49: 0.135725\n",
      "W = [[-2.77633121  2.57049643]]\n",
      "b = [[-2.13121869]]\n"
     ]
    }
   ],
   "source": [
    "parameters = nn_model(X, Y, num_iterations=50, learning_rate=1.2, print_cost=True)\n",
    "print(\"W = \" + str(parameters[\"W\"]))\n",
    "print(\"b = \" + str(parameters[\"b\"]))"
   ]
  },
  {
   "cell_type": "markdown",
   "metadata": {},
   "source": [
    "You can see that after about $40$ iterations the cost function does keep decreasing, but not as much. It is a sign that it might be reasonable to stop training there. The final model parameters can be used to find the boundary line and for making predictions. Let's visualize the boundary line."
   ]
  },
  {
   "cell_type": "code",
   "execution_count": 26,
   "metadata": {
    "tags": [
     "graded"
    ]
   },
   "outputs": [
    {
     "data": {
      "image/png": "[encoded data removed]",
      "text/plain": [
       "<Figure size 640x480 with 1 Axes>"
      ]
     },
     "metadata": {},
     "output_type": "display_data"
    },
    {
     "name": "stdout",
     "output_type": "stream",
     "text": [
      "Note I have 30 data points for training but there are only four possible combinations of x1 and x2\n",
      "and only one scenario where the result is Y is one, i.e. red\n",
      "[[0 0 0 1 0 0 0 0 0 0 0 0 0 0 0 0 0 0 0 0 0 0 1 1 0 0 0 0 1 0]]\n"
     ]
    }
   ],
   "source": [
    "def plot_decision_boundary(X, Y, parameters):\n",
    "    W = parameters[\"W\"]\n",
    "    b = parameters[\"b\"]\n",
    "\n",
    "    fig, ax = plt.subplots() \n",
    "    plt.scatter(X[0, :],  # this is all the X values (first row/feature) \n",
    "                X[1, :],  # this is all the Y values (second row/feature) \n",
    "                c=Y,      # this is a vector of colors; in this case we use the actual values  to guess to determine\n",
    "                          # the color, remember Y is an array of 0s and 1s\n",
    "                cmap=colors.ListedColormap(['blue', 'red'])); # this is how the 0s and 1s are mapped in colors\n",
    "    \n",
    "    #\n",
    "    # for the x axis we want to use, the range between the min and the max (*1.1) values of X\n",
    "    # and we take a point every 0.1 units\n",
    "    x_line = np.arange(np.min(X[0,:]),np.max(X[0,:])*1.1, 0.1)\n",
    "    #\n",
    "    # For y we start from: w0 x + w1 y + b = 0 which becomes:  y = - w0/w1 x - b/w1\n",
    "    ax.plot(x_line, - W[0,0] / W[0,1] * x_line + -b[0,0] / W[0,1] , color=\"black\")\n",
    "    plt.plot()\n",
    "    plt.show()\n",
    "    \n",
    "plot_decision_boundary(X, Y, parameters)\n",
    "print(\"Note I have 30 data points for training but there are only four possible combinations of x1 and x2\")\n",
    "print(\"and only one scenario where the result is Y is one, i.e. red\")\n",
    "print(Y)"
   ]
  },
  {
   "cell_type": "markdown",
   "metadata": {},
   "source": [
    "And make some predictions:"
   ]
  },
  {
   "cell_type": "code",
   "execution_count": 27,
   "metadata": {},
   "outputs": [
    {
     "name": "stdout",
     "output_type": "stream",
     "text": [
      "Coordinates (in the columns):\n",
      "[[1 1 0 0]\n",
      " [0 1 0 1]]\n",
      "Predictions:\n",
      "[[False False False  True]]\n"
     ]
    }
   ],
   "source": [
    "def predict(X, parameters):\n",
    "    \"\"\"\n",
    "    Using the learned parameters, predicts a class for each example in X\n",
    "    \n",
    "    Arguments:\n",
    "    parameters -- python dictionary containing your parameters \n",
    "    X -- input data of size (n_x, m)\n",
    "    \n",
    "    Returns\n",
    "    predictions -- vector of predictions of our model (blue: False / red: True)\n",
    "    \"\"\"\n",
    "    \n",
    "    # Computes probabilities using forward propagation, and classifies to 0/1 using 0.5 as the threshold.\n",
    "    A = forward_propagation(X, parameters)\n",
    "    predictions = A > 0.5\n",
    "    \n",
    "    return predictions\n",
    "\n",
    "X_pred = np.array([[1, 1, 0, 0],\n",
    "                   [0, 1, 0, 1]])\n",
    "Y_pred = predict(X_pred, parameters)\n",
    "\n",
    "print(f\"Coordinates (in the columns):\\n{X_pred}\")\n",
    "print(f\"Predictions:\\n{Y_pred}\")"
   ]
  },
  {
   "cell_type": "markdown",
   "metadata": {},
   "source": [
    "Pretty good for such a simple neural network!"
   ]
  },
  {
   "cell_type": "markdown",
   "metadata": {},
   "source": [
    "<a name='4'></a>\n",
    "## 4 - Performance on a Larger Dataset\n",
    "\n",
    "Construct a larger and more complex dataset with the function `make_blobs` from the `sklearn.datasets` library:"
   ]
  },
  {
   "cell_type": "code",
   "execution_count": 38,
   "metadata": {},
   "outputs": [
    {
     "name": "stdout",
     "output_type": "stream",
     "text": [
      "size of samples: (1000, 2)\n",
      "size of labels: (1000,)\n",
      "size of samples after transpose: (2, 1000)\n",
      "size of labels reshaped: (1, 1000)\n"
     ]
    },
    {
     "data": {
      "image/png": "[encoded data removed]",
      "text/plain": [
       "<Figure size 640x480 with 1 Axes>"
      ]
     },
     "metadata": {},
     "output_type": "display_data"
    }
   ],
   "source": [
    "# Dataset\n",
    "n_samples = 1000\n",
    "samples, labels = make_blobs(n_samples=n_samples, \n",
    "                             centers=([2.5, 3], [6.7, 7.9]), # this creates 2 centers, the first at 2.5,3 \n",
    "                                                             # and the second at 6.7,7.9\n",
    "                             cluster_std=1.4,\n",
    "                             random_state=0)\n",
    "\n",
    "# This just transpose the vector of samples\n",
    "print(f\"size of samples: {samples.shape}\")\n",
    "print(f\"size of labels: {labels.shape}\")\n",
    "X_larger = np.transpose(samples)\n",
    "print(f\"size of samples after transpose: {X_larger.shape}\")\n",
    "# \n",
    "# This just converts converts the array into a matrix with 1 row\n",
    "# Note that the labels depend on the \"centers\".. i.e. you have one lavel for each center\n",
    "# in this case, with 2 centers we have labels 0, 1; if we had 3 center we would have had 0,1,2\n",
    "Y_larger = labels.reshape((1,n_samples))\n",
    "print(f\"size of labels reshaped: {Y_larger.shape}\")\n",
    "\n",
    "plt.scatter(X_larger[0, :], X_larger[1, :], c=Y_larger, cmap=colors.ListedColormap(['blue', 'red']));\n"
   ]
  },
  {
   "cell_type": "markdown",
   "metadata": {},
   "source": [
    "And train your neural network for $100$ iterations."
   ]
  },
  {
   "cell_type": "code",
   "execution_count": 39,
   "metadata": {},
   "outputs": [
    {
     "name": "stdout",
     "output_type": "stream",
     "text": [
      "W = [[0.97402863 1.087335  ]]\n",
      "b = [[-10.17023749]]\n"
     ]
    }
   ],
   "source": [
    "parameters_larger = nn_model(X_larger, Y_larger, num_iterations=100, learning_rate=1.2, print_cost=False)\n",
    "print(\"W = \" + str(parameters_larger[\"W\"]))\n",
    "print(\"b = \" + str(parameters_larger[\"b\"]))"
   ]
  },
  {
   "cell_type": "markdown",
   "metadata": {},
   "source": [
    "Plot the decision boundary:"
   ]
  },
  {
   "cell_type": "code",
   "execution_count": 40,
   "metadata": {},
   "outputs": [
    {
     "data": {
      "image/png": "[encoded data removed]",
      "text/plain": [
       "<Figure size 640x480 with 1 Axes>"
      ]
     },
     "metadata": {},
     "output_type": "display_data"
    }
   ],
   "source": [
    "plot_decision_boundary(X_larger, Y_larger, parameters_larger)"
   ]
  },
  {
   "cell_type": "markdown",
   "metadata": {},
   "source": [
    "Try to change values of the parameters `num_iterations` and `learning_rate` and see if the results will be different."
   ]
  },
  {
   "cell_type": "markdown",
   "metadata": {},
   "source": [
    "Congrats on finishing the lab!"
   ]
  },
  {
   "cell_type": "code",
   "execution_count": null,
   "metadata": {
    "tags": [
     "graded"
    ]
   },
   "outputs": [],
   "source": []
  }
 ],
 "metadata": {
  "accelerator": "GPU",
  "colab": {
   "collapsed_sections": [],
   "name": "C1_W1_Assignment_Solution.ipynb",
   "provenance": []
  },
  "coursera": {
   "schema_names": [
    "AI4MC1-1"
   ]
  },
  "grader_version": "1",
  "kernelspec": {
   "display_name": "Python 3",
   "language": "python",
   "name": "python3"
  },
  "language_info": {
   "codemirror_mode": {
    "name": "ipython",
    "version": 3
   },
   "file_extension": ".py",
   "mimetype": "text/x-python",
   "name": "python",
   "nbconvert_exporter": "python",
   "pygments_lexer": "ipython3",
   "version": "3.8.8"
  },
  "toc": {
   "base_numbering": 1,
   "nav_menu": {},
   "number_sections": true,
   "sideBar": true,
   "skip_h1_title": false,
   "title_cell": "Table of Contents",
   "title_sidebar": "Contents",
   "toc_cell": false,
   "toc_position": {},
   "toc_section_display": true,
   "toc_window_display": false
  }
 },
 "nbformat": 4,
 "nbformat_minor": 1
}
