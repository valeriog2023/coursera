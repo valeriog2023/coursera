{
 "cells": [
  {
   "cell_type": "markdown",
   "metadata": {},
   "source": [
    "<p style=\"text-align:center\">\n",
    "    <a href=\"https://skills.network/?utm_medium=Exinfluencer&utm_source=Exinfluencer&utm_content=000026UJ&utm_term=10006555&utm_id=NA-SkillsNetwork-Channel-SkillsNetworkCoursesIBMDeveloperSkillsNetworkPY0221ENSkillsNetwork899-2023-01-01\">\n",
    "    <img src=\"https://cf-courses-data.s3.us.cloud-object-storage.appdomain.cloud/assets/logos/SN_web_lightmode.png\" width=\"200\" alt=\"Skills Network Logo\"  />\n",
    "    </a>\n",
    "</p>\n"
   ]
  },
  {
   "cell_type": "markdown",
   "metadata": {},
   "source": [
    "# Peer Review Assignment - Data Engineer - Extract API Data\n"
   ]
  },
  {
   "cell_type": "markdown",
   "metadata": {},
   "source": [
    "Estimated time needed: **20** minutes\n"
   ]
  },
  {
   "cell_type": "markdown",
   "metadata": {},
   "source": [
    "## Objectives\n",
    "\n",
    "In this part you will:\n",
    "\n",
    "-   Collect exchange rate data using an API\n",
    "-   Store the data as a CSV\n"
   ]
  },
  {
   "cell_type": "markdown",
   "metadata": {},
   "source": [
    "For this lab, we are going to be using Python and several Python libraries. Some of these libraries might be installed in your lab environment or in SN Labs. Others may need to be installed by you. The cells below will install these libraries when executed.\n"
   ]
  },
  {
   "cell_type": "code",
   "execution_count": null,
   "metadata": {},
   "outputs": [],
   "source": [
    "#!mamba install pandas==1.3.3 -y\n",
    "#!mamba install requests==2.26.0 -y"
   ]
  },
  {
   "cell_type": "markdown",
   "metadata": {},
   "source": [
    "## Imports\n",
    "\n",
    "Import any additional libraries you may need here.\n"
   ]
  },
  {
   "cell_type": "code",
   "execution_count": 1,
   "metadata": {},
   "outputs": [],
   "source": [
    "import requests\n",
    "import pandas as pd"
   ]
  },
  {
   "cell_type": "markdown",
   "metadata": {},
   "source": [
    "## Extract Data Using an API\n"
   ]
  },
  {
   "cell_type": "markdown",
   "metadata": {},
   "source": [
    "Using ExchangeRate-API we will extract currency exchange rate data. Use the below steps to get the access key and to get the data. \n",
    "1. Open the url : https://exchangeratesapi.io/ and click on **Get Free API Key**. \n",
    "2. Subscribe for Free plan and Sign-in with the Google Account. \n",
    "3. Once the account is created you will be redirected to https://apilayer.com website.\n",
    "2. Now, click on the **user icon** and click **Account** as shown below:\n",
    "\n",
    "<img src=\"https://cf-courses-data.s3.us.cloud-object-storage.appdomain.cloud/IBMDeveloperSkillsNetwork-PY0221EN-SkillsNetwork/labs/module%206/Final%20Assignment/Images/account.png\">\n",
    "\n",
    "3. Scroll down and you will get the API Key section. Copy the API key and use in the url in Question 1.\n"
   ]
  },
  {
   "cell_type": "markdown",
   "metadata": {},
   "source": [
    "### Call the API\n",
    "\n",
    " <b> Question 1</b> Using the `requests` library call the endpoint given above and save the text, remember the first few characters of the output: \n"
   ]
  },
  {
   "cell_type": "code",
   "execution_count": 8,
   "metadata": {},
   "outputs": [],
   "source": [
    "# Write your code here\n",
    "api_key1=\"8305a3c98ba124292ee78a75b960f126\" # from exchangerate\n",
    "account_pwd=\"iAhSMmD3bBLAns#\"               # for exchange rate\n",
    "api_key2=\"ck8nLPqyMbABuNWwTT1dJfDo9p0jResR\" # from https://apilayer.com/marketplace/exchangerates_data-api\n",
    "url = f\"https://api.apilayer.com/exchangerates_data/latest?base=EUR&apikey={api_key2}\"\n",
    "r = requests.get(url)\n"
   ]
  },
  {
   "cell_type": "code",
   "execution_count": 9,
   "metadata": {},
   "outputs": [
    {
     "data": {
      "text/plain": [
       "'{\\n    \"success\": true,\\n    \"timestamp\": 1685192103,\\n    \"base\": \"EUR\",\\n    \"date\": \"2023-05-27\",\\n    \"rates\": {\\n        \"AED\": 3.940766,\\n        \"AFN\": 93.363019,\\n        \"ALL\": 110.751669,\\n        \"AMD\": 414.788034,\\n        \"ANG\": 1.933893,\\n        \"AOA\": 592.910589,\\n        \"ARS\": 252.845499,\\n        \"AUD\": 1.646406,\\n        \"AWG\": 1.934323,\\n        \"AZN\": 1.828587,\\n        \"BAM\": 1.953167,\\n        \"BBD\": 2.1666,\\n        \"BDT\": 115.04494,\\n        \"BGN\": 1.956377,\\n        \"BHD\": 0.404445,\\n        \"BIF\": 3027.309903,\\n        \"BMD\": 1.073134,\\n        \"BND\": 1.449899,\\n        \"BOB\": 7.415075,\\n        \"BRL\": 5.359448,\\n        \"BSD\": 1.073019,\\n        \"BTC\": 4.0138744e-05,\\n        \"BTN\": 88.643103,\\n        \"BWP\": 14.718682,\\n        \"BYN\": 2.708361,\\n        \"BYR\": 21033.418684,\\n        \"BZD\": 2.162814,\\n        \"CAD\": 1.461126,\\n        \"CDF\": 2505.767359,\\n        \"CHF\": 0.972652,\\n        \"CLF\": 0.031125,\\n        \"CLP\": 858.833023,\\n        \"CNY\": 7.581371,\\n        \"COP\": 4771.688581,\\n        \"CRC\": 576.239441,\\n        \"CUC\": 1.073134,\\n        \"CUP\": 28.438041,\\n        \"CVE\": 110.858883,\\n        \"CZK\": 23.693234,\\n        \"DJF\": 190.717727,\\n        \"DKK\": 7.451522,\\n        \"DOP\": 58.53986,\\n        \"DZD\": 146.730451,\\n        \"EGP\": 33.142582,\\n        \"ERN\": 16.097004,\\n        \"ETB\": 58.275314,\\n        \"EUR\": 1,\\n        \"FJD\": 2.41321,\\n        \"FKP\": 0.8697,\\n        \"GBP\": 0.869216,\\n        \"GEL\": 2.774093,\\n        \"GGP\": 0.8697,\\n        \"GHS\": 11.992311,\\n        \"GIP\": 0.8697,\\n        \"GMD\": 63.962898,\\n        \"GNF\": 9287.971744,\\n        \"GTQ\": 8.374712,\\n        \"GYD\": 226.946232,\\n        \"HKD\": 8.405373,\\n        \"HNL\": 26.474623,\\n        \"HRK\": 7.452205,\\n        \"HTG\": 151.835353,\\n        \"HUF\": 371.415655,\\n        \"IDR\": 16105.696477,\\n        \"ILS\": 3.998297,\\n        \"IMP\": 0.8697,\\n        \"INR\": 88.603066,\\n        \"IQD\": 1405.805024,\\n        \"IRR\": 45393.551926,\\n        \"ISK\": 149.402075,\\n        \"JEP\": 0.8697,\\n        \"JMD\": 166.32737,\\n        \"JOD\": 0.761393,\\n        \"JPY\": 150.94165,\\n        \"KES\": 148.468447,\\n        \"KGS\": 93.996185,\\n        \"KHR\": 4412.725766,\\n        \"KMF\": 493.051648,\\n        \"KPW\": 965.757387,\\n        \"KRW\": 1420.21762,\\n        \"KWD\": 0.330053,\\n        \"KYD\": 0.894166,\\n        \"KZT\": 477.051465,\\n        \"LAK\": 18967.636867,\\n        \"LBP\": 16142.83715,\\n        \"LKR\": 319.222719,\\n        \"LRD\": 180.233199,\\n        \"LSL\": 21.087485,\\n        \"LTL\": 3.168685,\\n        \"LVL\": 0.649128,\\n        \"LYD\": 5.177912,\\n        \"MAD\": 10.979771,\\n        \"MDL\": 19.132213,\\n        \"MGA\": 4732.519576,\\n        \"MKD\": 61.527072,\\n        \"MMK\": 2253.289475,\\n        \"MNT\": 3728.678375,\\n        \"MOP\": 8.660228,\\n        \"MRO\": 383.108513,\\n        \"MUR\": 48.870911,\\n        \"MVR\": 16.422959,\\n        \"MWK\": 1097.81605,\\n        \"MXN\": 18.919242,\\n        \"MYR\": 4.937529,\\n        \"MZN\": 67.876106,\\n        \"NAD\": 21.08748,\\n        \"NGN\": 495.255159,\\n        \"NIO\": 39.173374,\\n        \"NOK\": 11.874454,\\n        \"NPR\": 141.824845,\\n        \"NZD\": 1.774949,\\n        \"OMR\": 0.413088,\\n        \"PAB\": 1.073019,\\n        \"PEN\": 3.935722,\\n        \"PGK\": 3.777833,\\n        \"PHP\": 59.977978,\\n        \"PKR\": 305.843445,\\n        \"PLN\": 4.532353,\\n        \"PYG\": 7738.569781,\\n        \"QAR\": 3.907321,\\n        \"RON\": 4.960457,\\n        \"RSD\": 117.249913,\\n        \"RUB\": 84.77792,\\n        \"RWF\": 1215.323809,\\n        \"SAR\": 4.024707,\\n        \"SBD\": 8.943401,\\n        \"SCR\": 14.463103,\\n        \"SDG\": 644.420678,\\n        \"SEK\": 11.603691,\\n        \"SGD\": 1.448949,\\n        \"SHP\": 1.305736,\\n        \"SLE\": 24.246812,\\n        \"SLL\": 21194.389088,\\n        \"SOS\": 611.153521,\\n        \"SRD\": 40.031813,\\n        \"STD\": 22211.699003,\\n        \"SVC\": 9.389345,\\n        \"SYP\": 2696.194702,\\n        \"SZL\": 21.087472,\\n        \"THB\": 37.270326,\\n        \"TJS\": 11.72791,\\n        \"TMT\": 3.755968,\\n        \"TND\": 3.323535,\\n        \"TOP\": 2.555565,\\n        \"TRY\": 21.433594,\\n        \"TTD\": 7.283184,\\n        \"TWD\": 32.937479,\\n        \"TZS\": 2537.961339,\\n        \"UAH\": 39.628395,\\n        \"UGX\": 4000.64512,\\n        \"USD\": 1.073134,\\n        \"UYU\": 41.514046,\\n        \"UZS\": 12276.648815,\\n        \"VEF\": 2799958.360192,\\n        \"VES\": 28.005461,\\n        \"VND\": 25199.859911,\\n        \"VUV\": 129.441173,\\n        \"WST\": 2.923706,\\n        \"XAF\": 655.052741,\\n        \"XAG\": 0.046041,\\n        \"XAU\": 0.000551,\\n        \"XCD\": 2.900198,\\n        \"XDR\": 0.801593,\\n        \"XOF\": 655.151927,\\n        \"XPF\": 119.815757,\\n        \"YER\": 268.659388,\\n        \"ZAR\": 21.097689,\\n        \"ZMK\": 9659.494069,\\n        \"ZMW\": 20.683315,\\n        \"ZWL\": 345.548583\\n    }\\n}\\n'"
      ]
     },
     "execution_count": 9,
     "metadata": {},
     "output_type": "execute_result"
    }
   ],
   "source": [
    "r.text"
   ]
  },
  {
   "cell_type": "markdown",
   "metadata": {},
   "source": [
    "### Save as DataFrame\n",
    "\n",
    " <b> Question 2</b>  Using the data gathered turn it into a `pandas` dataframe. The dataframe should have the Currency as the index and `Rate` as their columns. Make sure to drop unnecessary columns.\n"
   ]
  },
  {
   "cell_type": "code",
   "execution_count": 12,
   "metadata": {},
   "outputs": [
    {
     "data": {
      "text/html": [
       "<div>\n",
       "<style scoped>\n",
       "    .dataframe tbody tr th:only-of-type {\n",
       "        vertical-align: middle;\n",
       "    }\n",
       "\n",
       "    .dataframe tbody tr th {\n",
       "        vertical-align: top;\n",
       "    }\n",
       "\n",
       "    .dataframe thead th {\n",
       "        text-align: right;\n",
       "    }\n",
       "</style>\n",
       "<table border=\"1\" class=\"dataframe\">\n",
       "  <thead>\n",
       "    <tr style=\"text-align: right;\">\n",
       "      <th></th>\n",
       "      <th>success</th>\n",
       "      <th>timestamp</th>\n",
       "      <th>base</th>\n",
       "      <th>date</th>\n",
       "      <th>rates</th>\n",
       "    </tr>\n",
       "  </thead>\n",
       "  <tbody>\n",
       "    <tr>\n",
       "      <th>AED</th>\n",
       "      <td>True</td>\n",
       "      <td>1685192103</td>\n",
       "      <td>EUR</td>\n",
       "      <td>2023-05-27</td>\n",
       "      <td>3.940766</td>\n",
       "    </tr>\n",
       "    <tr>\n",
       "      <th>AFN</th>\n",
       "      <td>True</td>\n",
       "      <td>1685192103</td>\n",
       "      <td>EUR</td>\n",
       "      <td>2023-05-27</td>\n",
       "      <td>93.363019</td>\n",
       "    </tr>\n",
       "    <tr>\n",
       "      <th>ALL</th>\n",
       "      <td>True</td>\n",
       "      <td>1685192103</td>\n",
       "      <td>EUR</td>\n",
       "      <td>2023-05-27</td>\n",
       "      <td>110.751669</td>\n",
       "    </tr>\n",
       "    <tr>\n",
       "      <th>AMD</th>\n",
       "      <td>True</td>\n",
       "      <td>1685192103</td>\n",
       "      <td>EUR</td>\n",
       "      <td>2023-05-27</td>\n",
       "      <td>414.788034</td>\n",
       "    </tr>\n",
       "    <tr>\n",
       "      <th>ANG</th>\n",
       "      <td>True</td>\n",
       "      <td>1685192103</td>\n",
       "      <td>EUR</td>\n",
       "      <td>2023-05-27</td>\n",
       "      <td>1.933893</td>\n",
       "    </tr>\n",
       "  </tbody>\n",
       "</table>\n",
       "</div>"
      ],
      "text/plain": [
       "     success   timestamp base        date       rates\n",
       "AED     True  1685192103  EUR  2023-05-27    3.940766\n",
       "AFN     True  1685192103  EUR  2023-05-27   93.363019\n",
       "ALL     True  1685192103  EUR  2023-05-27  110.751669\n",
       "AMD     True  1685192103  EUR  2023-05-27  414.788034\n",
       "ANG     True  1685192103  EUR  2023-05-27    1.933893"
      ]
     },
     "execution_count": 12,
     "metadata": {},
     "output_type": "execute_result"
    }
   ],
   "source": [
    "# Turn the data into a dataframe\n",
    "df =  pd.DataFrame(r.json())\n",
    "df.head()"
   ]
  },
  {
   "cell_type": "code",
   "execution_count": 13,
   "metadata": {},
   "outputs": [
    {
     "data": {
      "text/html": [
       "<div>\n",
       "<style scoped>\n",
       "    .dataframe tbody tr th:only-of-type {\n",
       "        vertical-align: middle;\n",
       "    }\n",
       "\n",
       "    .dataframe tbody tr th {\n",
       "        vertical-align: top;\n",
       "    }\n",
       "\n",
       "    .dataframe thead th {\n",
       "        text-align: right;\n",
       "    }\n",
       "</style>\n",
       "<table border=\"1\" class=\"dataframe\">\n",
       "  <thead>\n",
       "    <tr style=\"text-align: right;\">\n",
       "      <th></th>\n",
       "      <th>rates</th>\n",
       "    </tr>\n",
       "  </thead>\n",
       "  <tbody>\n",
       "    <tr>\n",
       "      <th>AED</th>\n",
       "      <td>3.940766</td>\n",
       "    </tr>\n",
       "    <tr>\n",
       "      <th>AFN</th>\n",
       "      <td>93.363019</td>\n",
       "    </tr>\n",
       "    <tr>\n",
       "      <th>ALL</th>\n",
       "      <td>110.751669</td>\n",
       "    </tr>\n",
       "    <tr>\n",
       "      <th>AMD</th>\n",
       "      <td>414.788034</td>\n",
       "    </tr>\n",
       "    <tr>\n",
       "      <th>ANG</th>\n",
       "      <td>1.933893</td>\n",
       "    </tr>\n",
       "    <tr>\n",
       "      <th>...</th>\n",
       "      <td>...</td>\n",
       "    </tr>\n",
       "    <tr>\n",
       "      <th>YER</th>\n",
       "      <td>268.659388</td>\n",
       "    </tr>\n",
       "    <tr>\n",
       "      <th>ZAR</th>\n",
       "      <td>21.097689</td>\n",
       "    </tr>\n",
       "    <tr>\n",
       "      <th>ZMK</th>\n",
       "      <td>9659.494069</td>\n",
       "    </tr>\n",
       "    <tr>\n",
       "      <th>ZMW</th>\n",
       "      <td>20.683315</td>\n",
       "    </tr>\n",
       "    <tr>\n",
       "      <th>ZWL</th>\n",
       "      <td>345.548583</td>\n",
       "    </tr>\n",
       "  </tbody>\n",
       "</table>\n",
       "<p>170 rows × 1 columns</p>\n",
       "</div>"
      ],
      "text/plain": [
       "           rates\n",
       "AED     3.940766\n",
       "AFN    93.363019\n",
       "ALL   110.751669\n",
       "AMD   414.788034\n",
       "ANG     1.933893\n",
       "..           ...\n",
       "YER   268.659388\n",
       "ZAR    21.097689\n",
       "ZMK  9659.494069\n",
       "ZMW    20.683315\n",
       "ZWL   345.548583\n",
       "\n",
       "[170 rows x 1 columns]"
      ]
     },
     "execution_count": 13,
     "metadata": {},
     "output_type": "execute_result"
    }
   ],
   "source": [
    "# Drop unnescessary columns\n",
    "df = df[['rates']]\n",
    "df"
   ]
  },
  {
   "cell_type": "markdown",
   "metadata": {},
   "source": [
    "### Load the Data\n",
    "\n",
    "Using the dataframe save it as a CSV names `exchange_rates_1.csv`.\n"
   ]
  },
  {
   "cell_type": "code",
   "execution_count": 15,
   "metadata": {},
   "outputs": [],
   "source": [
    "# Save the Dataframe\n",
    "csv_file = 'exchange_rates_1.csv'\n",
    "df.to_csv(csv_file)"
   ]
  },
  {
   "cell_type": "markdown",
   "metadata": {},
   "source": [
    "Your CSV should be in this format with more currencies\n",
    "\n",
    "| | Rates |\n",
    "| ------- | ------- |\n",
    "|  AED| 4.398618    |\n",
    "|  AFN| 92.917693   |  \n",
    "|  ALL| 123.099093  |\n",
    "|  AMD| 621.935674  |\n",
    "|  ANG| 2.149648    | \n"
   ]
  },
  {
   "cell_type": "markdown",
   "metadata": {},
   "source": [
    "## Authors\n"
   ]
  },
  {
   "cell_type": "markdown",
   "metadata": {},
   "source": [
    "Ramesh Sannareddy, Joseph Santarcangelo and Azim Hirjani\n"
   ]
  },
  {
   "cell_type": "markdown",
   "metadata": {},
   "source": [
    "### Other Contributors\n"
   ]
  },
  {
   "cell_type": "markdown",
   "metadata": {},
   "source": [
    "Rav Ahuja\n"
   ]
  },
  {
   "cell_type": "markdown",
   "metadata": {},
   "source": [
    "## Change Log\n"
   ]
  },
  {
   "cell_type": "markdown",
   "metadata": {},
   "source": [
    "| Date (YYYY-MM-DD) | Version | Changed By        | Change Description                 |\n",
    "| ----------------- | ------- | ----------------- | ---------------------------------- |\n",
    "| 2022-05-06        | 0.3     | Malika            | Updated instructions to get the API and the url|\n",
    "| 2021-04-15        | 0.2     | Malika            | Updated the lab from USD to EUR    |\n",
    "| 2020-11-25        | 0.1     | Ramesh Sannareddy | Created initial version of the lab |\n"
   ]
  },
  {
   "cell_type": "markdown",
   "metadata": {},
   "source": [
    " Copyright © 2020 IBM Corporation. This notebook and its source code are released under the terms of the [MIT License](https://cognitiveclass.ai/mit-license?utm_medium=Exinfluencer&utm_source=Exinfluencer&utm_content=000026UJ&utm_term=10006555&utm_id=NA-SkillsNetwork-Channel-SkillsNetworkCoursesIBMDeveloperSkillsNetworkPY0221ENSkillsNetwork899-2023-01-01&cm_mmc=Email_Newsletter-_-Developer_Ed%2BTech-_-WW_WW-_-SkillsNetwork-Courses-IBM-DA0321EN-SkillsNetwork-21426264&cm_mmca1=000026UJ&cm_mmca2=10006555&cm_mmca3=M12345678&cvosrc=email.Newsletter.M12345678&cvo_campaign=000026UJ).\n"
   ]
  }
 ],
 "metadata": {
  "kernelspec": {
   "display_name": "Python 3",
   "language": "python",
   "name": "python3"
  },
  "language_info": {
   "codemirror_mode": {
    "name": "ipython",
    "version": 3
   },
   "file_extension": ".py",
   "mimetype": "text/x-python",
   "name": "python",
   "nbconvert_exporter": "python",
   "pygments_lexer": "ipython3",
   "version": "3.8.3"
  }
 },
 "nbformat": 4,
 "nbformat_minor": 4
}
